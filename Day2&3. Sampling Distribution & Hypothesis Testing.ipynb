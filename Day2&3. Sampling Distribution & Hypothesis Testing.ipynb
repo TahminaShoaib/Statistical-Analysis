{
 "cells": [
  {
   "cell_type": "markdown",
   "metadata": {},
   "source": [
    "## Setting up hypothesis, Setting up of confidence intervals"
   ]
  },
  {
   "cell_type": "markdown",
   "metadata": {},
   "source": [
    "## Setting up hypothesis"
   ]
  },
  {
   "cell_type": "markdown",
   "metadata": {},
   "source": [
    "*Beware of the problem of testing too many hypotheses; the more you torture the data, the more likely they are to confess, but confessions obtained under duress may not be admissible in the court of scientific opinion* - Stephen M Stigler\n",
    "\n",
    "* Hypothesis is a claim made by a person / organization.\n",
    "\n",
    "* The claim is usually about the population parameters such as mean or proportion and we seek evidence from a sample for the support of the claim (Example: average salary of Data Scientist with 1 year experience is Rs 5 Lakhs per annum).\n",
    "\n",
    "* Hypothesis testing is a process used for either rejecting or retaining null hypothesis."
   ]
  },
  {
   "cell_type": "markdown",
   "metadata": {},
   "source": [
    "** Examples of some claims:**\n",
    "*  If you drink Horlicks, you can grow taller, stronger and sharper.\n",
    "*  Two - minute for cooking noodles. (or eating !!)\n",
    "*  Married people are happier than singles (Anon - 2015).\n",
    "*  Smokers are better sales people.\n",
    "\n",
    "*Hypothesis testing is used for checking the validity of the claim using evidence found in sample data.*"
   ]
  },
  {
   "cell_type": "markdown",
   "metadata": {
    "collapsed": true
   },
   "source": [
    "### Type I Error, Type II error and power of the hypothesis test"
   ]
  },
  {
   "cell_type": "markdown",
   "metadata": {},
   "source": [
    "### Type I error"
   ]
  },
  {
   "cell_type": "markdown",
   "metadata": {},
   "source": [
    "* It is the conditional probability of rejecting a null hypothesis when it is true, is called **Type I error or False positive.**\n",
    "* $\\alpha$, the level of significance is the value of Type I error.\n",
    "* P(Reject null hypothesis | $H_0$ is true) = $\\alpha$"
   ]
  },
  {
   "cell_type": "markdown",
   "metadata": {},
   "source": [
    "### Type II error"
   ]
  },
  {
   "cell_type": "markdown",
   "metadata": {},
   "source": [
    "* It is the conditional probability of retaining a null hypothesis when it is true, is called **Type II error or False Negative.**\n",
    "* $\\beta$, is the value of Type II error.\n",
    "* P(Retain null hypothesis | $H_0$ is false) = $\\beta$"
   ]
  },
  {
   "cell_type": "markdown",
   "metadata": {},
   "source": [
    "### Power of the test"
   ]
  },
  {
   "cell_type": "markdown",
   "metadata": {},
   "source": [
    "* (1 - $\\beta$) is known as the **power of the test**.\n",
    "* It is P(Reject null hypothesis | $H_0$ is false) = 1- $\\beta$"
   ]
  },
  {
   "cell_type": "markdown",
   "metadata": {},
   "source": [
    "## One-sample Z test"
   ]
  },
  {
   "cell_type": "markdown",
   "metadata": {
    "collapsed": true
   },
   "source": [
    "### Example 1\n",
    "\n",
    "### A beverages company produces mineral water and available in 250 ml, 500 ml, 1 litre and 2 litre bottles, 5 litre, 15 litre and 20 litre jars. Let us consider 2 litre bottles. Company specification require a mean volume of 2 litre per bottle. You must adjust the water filling process when the mean volume in the population of bottles differs from 2 litres. Adjusting the process requires shutting down the water filling production line completely, so you do not want to make any adjustments without any reason unnecessarily. Assume a sample of 50 water bottles indicate a sample mean, $\\overline{X}$ of 2.001 litres and the population standard deviation, $\\sigma$ is 15 ml."
   ]
  },
  {
   "cell_type": "markdown",
   "metadata": {},
   "source": [
    "#### Hypothesis testing using the critical value approach"
   ]
  },
  {
   "cell_type": "code",
   "execution_count": 3,
   "metadata": {
    "collapsed": true
   },
   "outputs": [],
   "source": [
    "import numpy       as np\n",
    "import pandas      as pd\n",
    "import scipy.stats as stats"
   ]
  },
  {
   "cell_type": "markdown",
   "metadata": {},
   "source": [
    "### Step 1: Define null and alternative hypotheses"
   ]
  },
  {
   "cell_type": "markdown",
   "metadata": {},
   "source": [
    "In testing whether the mean volume is 2 litres, the null hypothesis states that mean volume, $\\mu$ equals 2 litres. The alternative hypthesis states that the mean olume, $\\mu$ is not equal  to 2 litres.\n",
    "* $H_0$: $\\mu$ = 2\n",
    "* $H_A$: $\\mu$ $\\neq$ 2\n",
    "\n"
   ]
  },
  {
   "cell_type": "markdown",
   "metadata": {},
   "source": [
    "### Step 2: Decide the significance level"
   ]
  },
  {
   "cell_type": "markdown",
   "metadata": {},
   "source": [
    "Choose the $\\alpha$, the level of significance according to the relative importance of the risks of committing Type I and Type II errors in the problem. \n",
    "\n",
    "In this example, making a Type I error means that you conclude that the population mean is not 2 litres when it is 2 litres. This implies that you will take corrective action on the filling process even though the process is working well (*false alarm*).\n",
    "\n",
    "On the other hand, when the population mean is 1.98 litres and you conclude that the population mean is 2 litres, you commit a Type II error. Here, you allow the process to continue without adjustment, even though an adjustment is needed (*missed opportunity*).\n",
    "\n",
    "Here, we select $\\alpha$ = 0.05 and n, sample size = 50."
   ]
  },
  {
   "cell_type": "markdown",
   "metadata": {},
   "source": [
    "### Step 3:  Identify the test statistic"
   ]
  },
  {
   "cell_type": "markdown",
   "metadata": {},
   "source": [
    "We know the population standard deviation and the sample is a large sample, n>30. So you use the normal distribution and the $Z_STAT$ test statistic."
   ]
  },
  {
   "cell_type": "markdown",
   "metadata": {},
   "source": [
    "### Step 4: Calculate the critical value"
   ]
  },
  {
   "cell_type": "markdown",
   "metadata": {},
   "source": [
    "We know the $\\alpha$ is 0.05. So, the critical values of the $Z_STAT$ test statistic are -1.96 and 1.96."
   ]
  },
  {
   "cell_type": "code",
   "execution_count": 20,
   "metadata": {},
   "outputs": [
    {
     "name": "stdout",
     "output_type": "stream",
     "text": [
      "1.96\n"
     ]
    }
   ],
   "source": [
    "print(np.abs(round(stats.norm.isf(q = 0.025),2))) # Here we use alpha by 2  for two-tailed test"
   ]
  },
  {
   "cell_type": "markdown",
   "metadata": {},
   "source": [
    "* ### Rejection region is $Z_{STAT}$ < -1.96 or $Z_{STAT}$ > 1.96.\n",
    "* ### Acceptance or non-rejection regions is -1.96 $\\leq$ $Z_{STAT}$ $\\leq$ 1.96"
   ]
  },
  {
   "cell_type": "markdown",
   "metadata": {},
   "source": [
    "We collect the sample data, calculate the test statistic. \n",
    "In our example, \n",
    "* $\\overline{X}$ = 2.001\n",
    "* $\\mu$   = 2\n",
    "* $\\sigma$ = 15\n",
    "* n       = 50\n",
    "* $Z_{STAT} = \\frac{\\overline{X} - \\mu} {\\frac{\\sigma}{\\sqrt{n}}}$ "
   ]
  },
  {
   "cell_type": "code",
   "execution_count": 21,
   "metadata": {},
   "outputs": [
    {
     "name": "stdout",
     "output_type": "stream",
     "text": [
      "Value of Z is 0.00047\n"
     ]
    }
   ],
   "source": [
    "XAvg  = 2.001\n",
    "mu    = 2\n",
    "sigma = 15\n",
    "n     = 50\n",
    "Z = (XAvg - mu)/(sigma/np.sqrt(n))\n",
    "print('Value of Z is %2.5f' %Z)"
   ]
  },
  {
   "cell_type": "markdown",
   "metadata": {},
   "source": [
    "### 5 Decide to reject or accept null hypothesis"
   ]
  },
  {
   "cell_type": "markdown",
   "metadata": {},
   "source": [
    "In this example, Z = 0.00047 lies in the acceptance region because, \n",
    "-1.96 < Z = 0.00047 < 1.96.\n",
    "\n",
    "So the statistical decision is not to reject the null hypothesis.\n",
    "\n",
    "### So there is no sufficient evidence  to prove that the mean fill is different from 2 litres."
   ]
  },
  {
   "cell_type": "markdown",
   "metadata": {},
   "source": [
    "### Example 2"
   ]
  },
  {
   "cell_type": "markdown",
   "metadata": {},
   "source": [
    "### A principal of a prestigious city college claims that the average intelligence of the students of the college is above average. A random sample of 100 students IQ scores have  a mean score of 115. The mean population mean IQ is 100 with a standard deviation of 15.\n",
    "\n",
    "**Is there sufficient evidence to support the principal's claim?**"
   ]
  },
  {
   "cell_type": "markdown",
   "metadata": {},
   "source": [
    "### Solution: Let us work through the several required steps"
   ]
  },
  {
   "cell_type": "code",
   "execution_count": 16,
   "metadata": {
    "collapsed": true
   },
   "outputs": [],
   "source": [
    "import numpy       as np\n",
    "import pandas      as pd\n",
    "import scipy.stats as stats"
   ]
  },
  {
   "cell_type": "markdown",
   "metadata": {},
   "source": [
    "### Step 1: Define null and alternative hypotheses"
   ]
  },
  {
   "cell_type": "markdown",
   "metadata": {},
   "source": [
    "In testing whether the mean IQ of the students is more than 100, the null hypothesis states that mean IQ, $\\mu$ equals 100. The alternative hypthesis states that the mean IQ, $\\mu$ is greater  than 100.\n",
    "* $H_0$: $\\mu$ = 100\n",
    "* $H_A$: $\\mu$ > 100"
   ]
  },
  {
   "cell_type": "markdown",
   "metadata": {},
   "source": [
    "### Step 2: Decide the significance level"
   ]
  },
  {
   "cell_type": "markdown",
   "metadata": {},
   "source": [
    "Here we select $\\alpha$ = 0.05 and it is given that n, sample size = 100."
   ]
  },
  {
   "cell_type": "markdown",
   "metadata": {},
   "source": [
    "### Step 3: Identify the test statistic"
   ]
  },
  {
   "cell_type": "markdown",
   "metadata": {},
   "source": [
    "We know the population standard deviation and the sample is a large sample, n>30. So you use the normal distribution and the $Z_STAT$ test statistic."
   ]
  },
  {
   "cell_type": "markdown",
   "metadata": {},
   "source": [
    "### Step 4: Calculate the critical value and test statistic"
   ]
  },
  {
   "cell_type": "code",
   "execution_count": 17,
   "metadata": {},
   "outputs": [
    {
     "name": "stdout",
     "output_type": "stream",
     "text": [
      "Value of Z critical is 1.640000\n"
     ]
    }
   ],
   "source": [
    "Zcrit = round(stats.norm.isf(q = 0.05),2)\n",
    "print('Value of Z critical is %3.6f' %Zcrit)              "
   ]
  },
  {
   "cell_type": "markdown",
   "metadata": {},
   "source": [
    "We know the $\\alpha$ is 0.05. So, the critical values of the $Z_STAT$ test statistic is 1.64"
   ]
  },
  {
   "cell_type": "markdown",
   "metadata": {},
   "source": [
    "We collect the sample data, calculate the test statistic. \n",
    "In our example, \n",
    "* $\\overline{X}$ = 115\n",
    "* $\\mu$          = 100\n",
    "* $\\sigma$       = 15\n",
    "* n              = 100\n",
    "* $Z_{STAT} = \\frac{\\overline{X} - \\mu} {\\frac{\\sigma}{\\sqrt{n}}}$ "
   ]
  },
  {
   "cell_type": "code",
   "execution_count": 18,
   "metadata": {},
   "outputs": [
    {
     "name": "stdout",
     "output_type": "stream",
     "text": [
      "Value of Z is 10.00000\n"
     ]
    }
   ],
   "source": [
    "XAvg  = 115\n",
    "mu    = 100\n",
    "sigma = 15\n",
    "n     = 100\n",
    "Z = (XAvg - mu)/(sigma/np.sqrt(n))\n",
    "print('Value of Z is %2.5f' %Z)"
   ]
  },
  {
   "cell_type": "markdown",
   "metadata": {},
   "source": [
    "### 5 Decide to reject or accept null hypothesis"
   ]
  },
  {
   "cell_type": "markdown",
   "metadata": {},
   "source": [
    "In this example, Z = 10 lies in the rejection region because, Z = 0.00047 > 1.64.\n",
    "\n",
    "So the statistical decision is to reject the null hypothesis.\n",
    "\n",
    "### So there is sufficient evidence  to prove that the mean average intelligence of the students of the college is above average.\n"
   ]
  },
  {
   "cell_type": "markdown",
   "metadata": {},
   "source": [
    "##  In class LAB : Practice Example 1"
   ]
  },
  {
   "cell_type": "markdown",
   "metadata": {},
   "source": [
    "### In a bank, the average time taken for getting a demand draft or bankers cheque is 15 minutes. From the past experience, you can assume that the population is normally distributed with a population standard deviation of 1.6 minutes. You select a sample of 50 requests for demand drafts and the sample mean is 14 minutes. Deteremine whether there is evidence at a 5% level of significance that the population mean service time to get the demand draft has changed from the population mean of 15 minutes. "
   ]
  },
  {
   "cell_type": "code",
   "execution_count": null,
   "metadata": {
    "collapsed": true
   },
   "outputs": [],
   "source": []
  },
  {
   "cell_type": "markdown",
   "metadata": {},
   "source": [
    "## Confidence Intervals    "
   ]
  },
  {
   "cell_type": "markdown",
   "metadata": {},
   "source": [
    "* When there is an uncertainity around measuring the value of an important poulation parameter, it is better to find the range in which the range in which the value of the parameter is likely to lie rather than predicting a point estimate (single value).\n",
    "* Confidence interval is the range in which the value of a population parameter is likely to lie with certain probability.\n",
    "* Confidence interval provides additional information about the population parameter that will be useful in decision making."
   ]
  },
  {
   "cell_type": "markdown",
   "metadata": {},
   "source": [
    "### Confidence interval for population mean"
   ]
  },
  {
   "cell_type": "markdown",
   "metadata": {},
   "source": [
    "Let $X_1$, $X_2$, $X_3$, ..., $X_n$ be the sample means of samples, $S_1$, $S_3$,  $S_3$, ..., $S_n$ that are drawn from an independent and identically distributed population with mean, $\\mu$ and stamdard deviation, $\\sigma$.\n",
    "\n",
    "From the Central Limit Theorem, we know that the sample means, $X_i$ follows a normal distribution with mean, $\\mu$ and standard deviation $\\frac{\\sigma} {\\sqrt{n}}$."
   ]
  },
  {
   "cell_type": "markdown",
   "metadata": {},
   "source": [
    "The variable Z = $\\frac{X_i - \\mu}{\\frac{\\sigma} {\\sqrt{n}}}$ follows a standard normal variable.\n",
    "\n",
    "### Assume that we want to find (1 - $\\alpha$) 100% confidence interval for the population mean. \n",
    "* We can distribute $\\alpha$ (probability of not observing true population parameter mean in the interval) equally ($\\alpha/2$) on either side of the distribution shown."
   ]
  },
  {
   "cell_type": "markdown",
   "metadata": {},
   "source": [
    "* For $\\alpha$ = 0.05 or $\\alpha/2$ = 0.025, that is 95% confidence interval, we can calculate lower and upper values of the confidence interval from the standard normal distribution.\n",
    "* scipy.stats.norm.isf(q = 0.025) gives the value of Z for which the area under the normal distribution is less than 0.025.\n",
    "* The corresponding value is approximately 1.96 as shown in the previous example.\n",
    "* Using the transformation relationship between standard normal random variable Z and normal random variable X, we can write the 95% confidence interval for population mean when population standard deviation ($\\sigma$) is known as:\n",
    "$\\overline{X} \\pm 1.96 \\frac {\\sigma} {\\sqrt{n}}$, where $\\overline{X} is the estimated value of mean from a sample of size n."
   ]
  },
  {
   "cell_type": "markdown",
   "metadata": {},
   "source": [
    "#### In general, (1 - $\\alpha$) 100% the confidence interval for the population mean when population standard deviation is known can be written as \n",
    "\n",
    "$\\overline{X} \\pm Z _\\frac{\\alpha}{2} \\frac {\\sigma} {\\sqrt{n}}$\n",
    "\n",
    "This equation is valid for large sample sizes, irrespective of the distribution of the population."
   ]
  },
  {
   "cell_type": "markdown",
   "metadata": {},
   "source": [
    "## Liquid Volume Example 1 - Find Confidence Interval\n",
    "John is a quality control analyst in a plant which required to fill 500 ml of liquid in bottles. Past studies have revealed that the bottles are filled with standard deviation 3 ml. John wants to check if the volume of liquid filled in bottles has changed. If the volume has changed then it is required to halt the production and reconfigure the machines. John takes 40 random samples and measures the volume of filled liquid. The sample mean is 501.5 ml. At 95% confidence level, find the confidence interval?"
   ]
  },
  {
   "cell_type": "code",
   "execution_count": 19,
   "metadata": {},
   "outputs": [
    {
     "name": "stdout",
     "output_type": "stream",
     "text": [
      "LCI 500.57\n",
      "UCI 502.43\n"
     ]
    }
   ],
   "source": [
    "se = 3/(40**0.5)\n",
    "se\n",
    "xbar = 501.5\n",
    "z = stats.norm.isf(q=0.025)\n",
    "LCI = xbar - z * se\n",
    "print(\"LCI %4.2f\" %LCI)\n",
    "UCI = xbar + z * se\n",
    "print(\"UCI %4.2f\" %UCI)"
   ]
  },
  {
   "cell_type": "markdown",
   "metadata": {},
   "source": [
    "## Example 2"
   ]
  },
  {
   "cell_type": "markdown",
   "metadata": {},
   "source": [
    "A sample of 100 diabetic patients was chosen to estimate the length of stay at a local hospital. \n",
    "The sample was 4.5 days and the population standard deviation was known to be 1.2 days.\n",
    "\n",
    "* a) Calculate the 95% confidence interval for the population mean.\n",
    "* b) What is the probability that the population mean is greater than 4.73 days?"
   ]
  },
  {
   "cell_type": "markdown",
   "metadata": {},
   "source": [
    "### Solution"
   ]
  },
  {
   "cell_type": "markdown",
   "metadata": {},
   "source": [
    "a) Calculate the 95% confidence interval for the population mean.\n",
    "\n",
    "It is known that \n",
    "* $\\overline{X}$ = 4.5\n",
    "* $\\sigma$       = 1.2\n",
    "* n              = 100\n",
    "We need to compute $\\overline{X} \\quad \\pm 1.96 \\frac {\\sigma} {\\sqrt{n}}$ "
   ]
  },
  {
   "cell_type": "code",
   "execution_count": 9,
   "metadata": {},
   "outputs": [
    {
     "name": "stdout",
     "output_type": "stream",
     "text": [
      "95 % confidence interval for population mean is 4.2648  to 4.7352\n"
     ]
    }
   ],
   "source": [
    "Xavg  = 4.5 \n",
    "sigma = 1.2\n",
    "n     = 100\n",
    "Lower_Interval = Xavg - (1.96 * (sigma / np.sqrt(n)))\n",
    "Upper_Interval = Xavg + (1.96 * (sigma / np.sqrt(n)))\n",
    "\n",
    "print('95 %s confidence interval for population mean is %1.4f  to %1.4f' % ('%', Lower_Interval , Upper_Interval))"
   ]
  },
  {
   "cell_type": "markdown",
   "metadata": {},
   "source": [
    "b) What is the probability that the population mean is greater than 4.73 days?"
   ]
  },
  {
   "cell_type": "markdown",
   "metadata": {},
   "source": [
    "We need to do the following:\n",
    "* a. Calculate Z value corresponding to 4.73 by subtracting Xavg and divide by s\n",
    "* b. find out the probability corresponding to the Z value using scipy.stats.norm.cdf and then subtracting from 1 since cdf gives cumulative probability upto the Z value sincd we are interested in finding the probability that the population mean is greater than Z"
   ]
  },
  {
   "cell_type": "code",
   "execution_count": 11,
   "metadata": {
    "collapsed": true
   },
   "outputs": [],
   "source": [
    "Z = (4.73 - Xavg) / s"
   ]
  },
  {
   "cell_type": "code",
   "execution_count": 12,
   "metadata": {
    "collapsed": true
   },
   "outputs": [],
   "source": [
    "P = 1- stats.norm.cdf(Z)"
   ]
  },
  {
   "cell_type": "code",
   "execution_count": 13,
   "metadata": {},
   "outputs": [
    {
     "name": "stdout",
     "output_type": "stream",
     "text": [
      "b. Probability that the population mean is greater than 4.73 days 0.0276\n"
     ]
    }
   ],
   "source": [
    "print('b. Probability that the population mean is greater than 4.73 days %1.4f' % P)"
   ]
  },
  {
   "cell_type": "markdown",
   "metadata": {},
   "source": [
    "### Example 3"
   ]
  },
  {
   "cell_type": "markdown",
   "metadata": {},
   "source": [
    "Hindustan Pencils Pvt. Ltd. is an Indian manufacturer of pencils, writing materials and other stationery items, established in 1958 in Mumbai. Nataraj brand of pencils manufactured by the company is expected to have a mean length of 172 mm and the standard deviation of the length is 0.02 mm.\n",
    "\n",
    "To ensure quality, a sample is selected at periodic intervals to determine whether the length is still 172 mm and other dimensions of the pencil meet the quality standards set by the company.\n",
    "\n",
    "You select a random sample of 100 pencils and the mean is 170 mm. \n",
    "\n",
    "Construct a 95% confidenct interval for the pencil length."
   ]
  },
  {
   "cell_type": "markdown",
   "metadata": {},
   "source": [
    "### Solution"
   ]
  },
  {
   "cell_type": "markdown",
   "metadata": {},
   "source": [
    "It is known that \n",
    "* $\\overline{X}$ = 172 mm\n",
    "* $\\sigma$       = 0.02 mm\n",
    "* n              = 100\n",
    "We need to compute $\\overline{X} \\quad \\pm 1.96 \\frac {\\sigma} {\\sqrt{n}}$ "
   ]
  },
  {
   "cell_type": "code",
   "execution_count": 14,
   "metadata": {},
   "outputs": [
    {
     "name": "stdout",
     "output_type": "stream",
     "text": [
      "95 % confidence interval for population mean is 171.9961  to 172.0039\n"
     ]
    }
   ],
   "source": [
    "ci     = 0.95\n",
    "Xavg   = 172\n",
    "sigma  = 0.02\n",
    "s      = sigma / np.sqrt(n)\n",
    "LCI, UCI = stats.norm.interval(ci, loc = Xavg, scale = s) # Give confidence interval 95%, mean and std as arguments to get CI\n",
    "print('95 %s confidence interval for population mean is %1.4f  to %1.4f' % ('%', LCI , UCI))"
   ]
  },
  {
   "cell_type": "markdown",
   "metadata": {},
   "source": [
    "## In class LAB : Practice Exercise 2"
   ]
  },
  {
   "cell_type": "markdown",
   "metadata": {},
   "source": [
    "Construct a 99% confidence interval for the following examples given above:\n",
    "* a. Example 2\n",
    "* b. Example 3"
   ]
  },
  {
   "cell_type": "markdown",
   "metadata": {},
   "source": [
    "## One-sample t-test"
   ]
  },
  {
   "cell_type": "markdown",
   "metadata": {},
   "source": [
    "### Very rarely we know the variance of the population. \n",
    "\n",
    "A common strategy to assess hypothesis is to conduct a t test. A t test can tell whether two groups have the same mean. \n",
    "A t test can be estimated for:\n",
    "* 1) One sample t test\n",
    "* 2) Two sample t test (including paired t test)\n",
    "\n",
    "We assume that the samples are randomly selected, independent and come from a normally distributed population with unknown but equal variances."
   ]
  },
  {
   "cell_type": "markdown",
   "metadata": {},
   "source": [
    "## Example 4 : Internet Mobile Time"
   ]
  },
  {
   "cell_type": "markdown",
   "metadata": {},
   "source": [
    "Experian Marketing Services reported that the typical American spends a mean of 144 minutes (2.4 hours) per day accessing the Internet via a mobile device. (Source: The 2014 Digital Marketer, available at ex.pn/IkXJjfX.) In order to test the validity of this statement, you select a sample of 30 friends and family. The results for the time spent per day accessing the Internet via mobile device (in minutes) are stored in InternetMobileTime \n",
    "\n",
    "a. Is there evidence that the population mean time spent per day accessing the Internet via mobile device is different from 144 minutes? Use the p-value approach and a level of significance of 0.05. \n",
    "\n",
    "b. What assumption about the population distribution is needed in order to conduct the t test in (a)? \n",
    "Problem 9.35 from the Textbook adapted for Classroom Discussion(Chapter 9-page 314) \n"
   ]
  },
  {
   "cell_type": "code",
   "execution_count": 1,
   "metadata": {},
   "outputs": [],
   "source": [
    "import numpy as np\n",
    "import pandas as pd\n",
    "import os\n",
    "import scipy.stats as stats"
   ]
  },
  {
   "cell_type": "code",
   "execution_count": 2,
   "metadata": {},
   "outputs": [
    {
     "ename": "FileNotFoundError",
     "evalue": "[WinError 2] The system cannot find the file specified: 'D:\\\\SMDM\\\\'",
     "output_type": "error",
     "traceback": [
      "\u001b[1;31m---------------------------------------------------------------------------\u001b[0m",
      "\u001b[1;31mFileNotFoundError\u001b[0m                         Traceback (most recent call last)",
      "\u001b[1;32m<ipython-input-2-f4b0298b633b>\u001b[0m in \u001b[0;36m<module>\u001b[1;34m\u001b[0m\n\u001b[1;32m----> 1\u001b[1;33m \u001b[0mos\u001b[0m\u001b[1;33m.\u001b[0m\u001b[0mchdir\u001b[0m\u001b[1;33m(\u001b[0m\u001b[1;34m\"D:\\\\SMDM\\\\\"\u001b[0m\u001b[1;33m)\u001b[0m\u001b[1;33m\u001b[0m\u001b[1;33m\u001b[0m\u001b[0m\n\u001b[0m\u001b[0;32m      2\u001b[0m \u001b[0mos\u001b[0m\u001b[1;33m.\u001b[0m\u001b[0mgetcwd\u001b[0m\u001b[1;33m(\u001b[0m\u001b[1;33m)\u001b[0m\u001b[1;33m\u001b[0m\u001b[1;33m\u001b[0m\u001b[0m\n\u001b[0;32m      3\u001b[0m \u001b[0mmydata\u001b[0m \u001b[1;33m=\u001b[0m \u001b[0mpd\u001b[0m\u001b[1;33m.\u001b[0m\u001b[0mread_csv\u001b[0m\u001b[1;33m(\u001b[0m\u001b[1;34m'InternetMobileTime.csv'\u001b[0m\u001b[1;33m)\u001b[0m\u001b[1;33m\u001b[0m\u001b[1;33m\u001b[0m\u001b[0m\n\u001b[0;32m      4\u001b[0m \u001b[0mxbar\u001b[0m \u001b[1;33m=\u001b[0m \u001b[0mmydata\u001b[0m\u001b[1;33m.\u001b[0m\u001b[0mmean\u001b[0m\u001b[1;33m(\u001b[0m\u001b[1;33m)\u001b[0m\u001b[1;33m\u001b[0m\u001b[1;33m\u001b[0m\u001b[0m\n\u001b[0;32m      5\u001b[0m \u001b[0mprint\u001b[0m\u001b[1;33m(\u001b[0m\u001b[1;34m\"Xbar: \"\u001b[0m\u001b[1;33m,\u001b[0m \u001b[0mxbar\u001b[0m\u001b[1;33m)\u001b[0m\u001b[1;33m\u001b[0m\u001b[1;33m\u001b[0m\u001b[0m\n",
      "\u001b[1;31mFileNotFoundError\u001b[0m: [WinError 2] The system cannot find the file specified: 'D:\\\\SMDM\\\\'"
     ]
    }
   ],
   "source": [
    "os.chdir(\"D:\\\\SMDM\\\\\")\n",
    "os.getcwd()\n",
    "mydata = pd.read_csv('InternetMobileTime.csv')\n",
    "xbar = mydata.mean()\n",
    "print(\"Xbar: \", xbar)\n",
    "S = mydata.std()\n",
    "print(\"S: \", S)"
   ]
  },
  {
   "cell_type": "markdown",
   "metadata": {},
   "source": [
    "Step 1: Formulate Hypothesis\n",
    "H0 : µ = 144\n",
    "H1 : µ ≠ 144\n",
    "\n",
    "Step 2: Given: n = 30, degree of freedom = 30 - 1 = 29, s = 139.84\n",
    "\n",
    "\n",
    "Step 3: Define test statistic\n",
    "tstat = (𝑥 ̅  − 𝜇) / (s /√𝑛)\n",
    "= 1.2246 \n",
    "\n",
    "Step 4: Draw diagram\n",
    "\n",
    "Step 5: (critical value approach)\n",
    "Determine critical values\n",
    "α = 5% = 0.05. This is two tailed test."
   ]
  },
  {
   "cell_type": "code",
   "execution_count": 103,
   "metadata": {},
   "outputs": [
    {
     "data": {
      "text/plain": [
       "2.0452296421327034"
      ]
     },
     "execution_count": 103,
     "metadata": {},
     "output_type": "execute_result"
    }
   ],
   "source": [
    "stats.t.isf(0.025,29)"
   ]
  },
  {
   "cell_type": "markdown",
   "metadata": {},
   "source": [
    "tα/2 = 2.045 \n",
    "-tα/2 = - 2.045 \n",
    "\n",
    "Step 6: (critical value approach) \n",
    "Compare whether tstat value is in reject region and make decision.<br>\n",
    "Since tstat(1.2246) is in Accept region, H0 is not rejected. \n"
   ]
  },
  {
   "cell_type": "code",
   "execution_count": 104,
   "metadata": {},
   "outputs": [
    {
     "data": {
      "text/plain": [
       "0.23058088073089986"
      ]
     },
     "execution_count": 104,
     "metadata": {},
     "output_type": "execute_result"
    }
   ],
   "source": [
    "stats.t.cdf(-1.2246,29) * 2"
   ]
  },
  {
   "cell_type": "markdown",
   "metadata": {},
   "source": [
    "Therefore, we are unable to prove that the population mean time spent per day accessing the Internet via mobile device is different from 144 minutes"
   ]
  },
  {
   "cell_type": "markdown",
   "metadata": {},
   "source": [
    "## Another Direct Method"
   ]
  },
  {
   "cell_type": "code",
   "execution_count": 105,
   "metadata": {},
   "outputs": [
    {
     "name": "stdout",
     "output_type": "stream",
     "text": [
      "tstat: 1.22467   p-value:  0.23055\n"
     ]
    }
   ],
   "source": [
    "tstat, pvalue = ttest_1samp(mydata,144)\n",
    "print(\"tstat: %3.5f   p-value:  %0.5f\" %(tstat, pvalue))"
   ]
  },
  {
   "cell_type": "markdown",
   "metadata": {},
   "source": [
    "## Example 5\n",
    "\n",
    "Suppose that a doctor claims that 17 year olds have an average body temperature that is higher than the commonly accepted average human temperature of 98.6 degree F.\n",
    "\n",
    "A simple random statistical sample of 25 people, each of age 17 is selected. \n",
    "\n",
    "| ID | Temperature |\n",
    "| --- | ----- |\n",
    "| 1 | 98.56 | \n",
    "| 2 | 98.66 |\n",
    "| 3 | 98.54 |\n",
    "| 4 | 98.71 |\n",
    "| 5 | 99.22 |\n",
    "| 6 | 99.49 |\n",
    "| 7 | 98.14 |\n",
    "| 8 | 98.84 |\n",
    "| 9 | 99.28 |\n",
    "| 10 | 98.48 |\n",
    "| 11 | 99.88 |\n",
    "| 12 | 97.29 |\n",
    "| 13 | 98.88 |\n",
    "| 14 | 99.07 |\n",
    "| 15 | 98.81 |\n",
    "| 16 | 99.49 |\n",
    "| 17 | 98.57 |\n",
    "| 18 | 98.98 |\n",
    "| 19 | 98.75 |\n",
    "| 20 | 98.69 |\n",
    "| 21 | 99.28 |\n",
    "| 22 | 99.52 |\n",
    "| 23 | 99.22 |\n",
    "| 24 | 99.01 |\n",
    "| 25 | 99.02 |"
   ]
  },
  {
   "cell_type": "code",
   "execution_count": 106,
   "metadata": {
    "collapsed": true
   },
   "outputs": [],
   "source": [
    "temperature = np.array([98.56, 98.66, 98.54, 98.71, 99.22, 99.49, 98.14, 98.84,\\\n",
    "                         99.28, 98.48, 99.88, 97.29, 98.88, 99.07, 98.81, 99.49,\\\n",
    "                         98.57, 98.98, 98.75, 98.69, 99.28, 99.52, 99.22, 99.01, 99.02])            "
   ]
  },
  {
   "cell_type": "code",
   "execution_count": 107,
   "metadata": {},
   "outputs": [
    {
     "name": "stdout",
     "output_type": "stream",
     "text": [
      "Mean is 98.9 Sd is 0.51\n"
     ]
    }
   ],
   "source": [
    "print('Mean is %2.1f Sd is %2.2f' % (temperature.mean(),temperature.std()))"
   ]
  },
  {
   "cell_type": "markdown",
   "metadata": {},
   "source": [
    "### Step 1: Define null and alternative hypotheses"
   ]
  },
  {
   "cell_type": "markdown",
   "metadata": {},
   "source": [
    "In testing whether 17 year olds have an average body temperature that is higher than 98.6 deg F,the null hypothesis states that mean bdy temperature, $\\mu$ equals 98.6. The alternative hypthesis states that the mean body temprature, $\\mu$ is greater  than 98.6.\n",
    "\n",
    "* $H_0$: $\\mu$ <= 98.6\n",
    "* $H_A$: $\\mu$ > 98.6"
   ]
  },
  {
   "cell_type": "markdown",
   "metadata": {},
   "source": [
    "### Step 2: Decide the significance level"
   ]
  },
  {
   "cell_type": "markdown",
   "metadata": {},
   "source": [
    "Here we select $\\alpha$ = 0.05 and it is given that n, sample size = 25."
   ]
  },
  {
   "cell_type": "markdown",
   "metadata": {},
   "source": [
    "### Step 3: Identify the test statistic"
   ]
  },
  {
   "cell_type": "markdown",
   "metadata": {},
   "source": [
    "We do not know the population standard deviation and the sample is not a large sample, n < 30. So you use the t distribution and the $t_STAT$ test statistic."
   ]
  },
  {
   "cell_type": "markdown",
   "metadata": {},
   "source": [
    "### Step 4: Calculate the p - value and test statistic"
   ]
  },
  {
   "cell_type": "markdown",
   "metadata": {},
   "source": [
    "**scipy.stats.ttest_1samp calculates the t test for the mean of one sample given the sample observations and  the expected value in the null hypothesis. This function returns t statistic and two-tailed p value.**"
   ]
  },
  {
   "cell_type": "code",
   "execution_count": 108,
   "metadata": {
    "collapsed": true
   },
   "outputs": [],
   "source": [
    "t_statistic, p_value = stats.ttest_1samp(temperature, 98.6)"
   ]
  },
  {
   "cell_type": "code",
   "execution_count": 112,
   "metadata": {},
   "outputs": [
    {
     "name": "stdout",
     "output_type": "stream",
     "text": [
      "2.8431039481 0.00898088361729\n"
     ]
    }
   ],
   "source": [
    "print(t_statistic, p_value)"
   ]
  },
  {
   "cell_type": "code",
   "execution_count": 113,
   "metadata": {},
   "outputs": [
    {
     "name": "stdout",
     "output_type": "stream",
     "text": [
      "p-value for one-tail: 0.00449044180865\n"
     ]
    }
   ],
   "source": [
    "print(\"p-value for one-tail:\", p_value/2)"
   ]
  },
  {
   "cell_type": "markdown",
   "metadata": {},
   "source": [
    "### Step 5: Decide to reject or accept null hypothesis"
   ]
  },
  {
   "cell_type": "markdown",
   "metadata": {},
   "source": [
    "In this example, p value is 0.0044 and it is less than 5% level of significance\n",
    "\n",
    "So the statistical decision is to reject the null hypothesis at 5% level of significance.\n",
    "\n",
    "### So there is sufficient evidence  to prove that 17 year olds have an average body temperature that is higher than the commonly accepted average human temperature of 98.6 degree F."
   ]
  },
  {
   "cell_type": "markdown",
   "metadata": {},
   "source": [
    "## In class lab : Practice Exercise 3"
   ]
  },
  {
   "cell_type": "markdown",
   "metadata": {},
   "source": [
    "You are given the daily sugar intake of 11 diabetic patients in the following Python code. \n",
    "\n",
    "**Is there any evidence to the claim that the average daily sugar intake of the diabetic patients is 7600 mg.** \n",
    "\n",
    "**Hint: Use t test**"
   ]
  },
  {
   "cell_type": "code",
   "execution_count": 115,
   "metadata": {
    "collapsed": true
   },
   "outputs": [],
   "source": [
    "# daily intake of Sugar in milligrams for 11 diabetic patients\n",
    "import numpy as np\n",
    "daily_intake = np.array([5560, 5770, 7640, 5180, 5690, 6435, 6803, 7689, 6876, 8213, 8765])"
   ]
  },
  {
   "cell_type": "code",
   "execution_count": null,
   "metadata": {
    "collapsed": true
   },
   "outputs": [],
   "source": []
  },
  {
   "cell_type": "markdown",
   "metadata": {},
   "source": [
    "## Two sample test (t-test)"
   ]
  },
  {
   "cell_type": "markdown",
   "metadata": {},
   "source": [
    "** Two sample t test (Snedecor and Cochran 1989) is used to determine if two population means are equal.\n",
    "A common application is to test if a new treatment or approach or process is yielding better results than the current treatment or approach or process.**\n",
    "\n",
    "* 1) Data is *paired* - For example, a group of students are given coaching classes and effect of coaching on the  marks scored is determined.\n",
    "* 2) Data is *not paired* - For example, find out  whether the miles per gallon of  cars of Japanese make is superior to cars of Indian make."
   ]
  },
  {
   "cell_type": "markdown",
   "metadata": {},
   "source": [
    "## 1) Independent Two sample r-test - Pooled Variance Test"
   ]
  },
  {
   "cell_type": "markdown",
   "metadata": {},
   "source": [
    "## Example 6 - Luggage"
   ]
  },
  {
   "cell_type": "markdown",
   "metadata": {},
   "source": [
    "A hotel manager looks to enhance the initial impressions that hotel guests have when they check in. Contributing to initial impressions is the time it takes to deliver a guest’s luggage to the room after check-in. A random sample of 20 deliveries on a particular day were selected in Wing A of the hotel, and a random sample of 20 deliveries were selected in Wing B. The results are stored in Luggage . Analyze the data and determine whether there is a difference between the mean delivery times in the two wings of the hotel. (Use alpha = 0.05) <br>\n",
    "Problem 10.83 from the Textbook adapted for Classroom Discussion(Chapter 10-page 387)"
   ]
  },
  {
   "cell_type": "code",
   "execution_count": 116,
   "metadata": {
    "collapsed": true
   },
   "outputs": [],
   "source": [
    "import numpy as np\n",
    "import pandas as pd\n",
    "import os\n",
    "import scipy.stats as stats"
   ]
  },
  {
   "cell_type": "code",
   "execution_count": 93,
   "metadata": {},
   "outputs": [
    {
     "data": {
      "text/html": [
       "<div>\n",
       "<style>\n",
       "    .dataframe thead tr:only-child th {\n",
       "        text-align: right;\n",
       "    }\n",
       "\n",
       "    .dataframe thead th {\n",
       "        text-align: left;\n",
       "    }\n",
       "\n",
       "    .dataframe tbody tr th {\n",
       "        vertical-align: top;\n",
       "    }\n",
       "</style>\n",
       "<table border=\"1\" class=\"dataframe\">\n",
       "  <thead>\n",
       "    <tr style=\"text-align: right;\">\n",
       "      <th></th>\n",
       "      <th>WingA</th>\n",
       "      <th>WingB</th>\n",
       "    </tr>\n",
       "  </thead>\n",
       "  <tbody>\n",
       "    <tr>\n",
       "      <th>0</th>\n",
       "      <td>10.70</td>\n",
       "      <td>7.20</td>\n",
       "    </tr>\n",
       "    <tr>\n",
       "      <th>1</th>\n",
       "      <td>9.89</td>\n",
       "      <td>6.68</td>\n",
       "    </tr>\n",
       "    <tr>\n",
       "      <th>2</th>\n",
       "      <td>11.83</td>\n",
       "      <td>9.29</td>\n",
       "    </tr>\n",
       "    <tr>\n",
       "      <th>3</th>\n",
       "      <td>9.04</td>\n",
       "      <td>8.95</td>\n",
       "    </tr>\n",
       "    <tr>\n",
       "      <th>4</th>\n",
       "      <td>9.37</td>\n",
       "      <td>6.61</td>\n",
       "    </tr>\n",
       "  </tbody>\n",
       "</table>\n",
       "</div>"
      ],
      "text/plain": [
       "   WingA  WingB\n",
       "0  10.70   7.20\n",
       "1   9.89   6.68\n",
       "2  11.83   9.29\n",
       "3   9.04   8.95\n",
       "4   9.37   6.61"
      ]
     },
     "execution_count": 93,
     "metadata": {},
     "output_type": "execute_result"
    }
   ],
   "source": [
    "os.chdir(\"D:\\\\SMDM\\\\\")\n",
    "os.getcwd()\n",
    "mydata = pd.read_csv('Luggage.csv')\n",
    "mydata.head()\n"
   ]
  },
  {
   "cell_type": "code",
   "execution_count": 94,
   "metadata": {},
   "outputs": [
    {
     "name": "stdout",
     "output_type": "stream",
     "text": [
      "tstat  5.162\n",
      "P Value 0.00001\n"
     ]
    }
   ],
   "source": [
    "t_statistic, p_value  =  stats.ttest_ind(mydata.WingA,mydata.WingB)\n",
    "print('tstat  %1.3f' % t_statistic)    \n",
    "print('P Value %1.5f' % p_value)    "
   ]
  },
  {
   "cell_type": "markdown",
   "metadata": {},
   "source": [
    "Since p-value < α, therefore reject Null Hypothesis. <br>\n",
    "<b>It has been proved statistically that there is a difference between the mean delivery times in the two wings of the hotel.</b>"
   ]
  },
  {
   "cell_type": "markdown",
   "metadata": {},
   "source": [
    "## Example 7 - Weight Loss"
   ]
  },
  {
   "cell_type": "markdown",
   "metadata": {},
   "source": [
    "Compare two unrelated samples. Data was collected on the weight loss of 16 women and 20 men enrolled in a weight reduction program.\n",
    "At $\\alpha$ = 0.05, test whether the weight loss of these two samples is different."
   ]
  },
  {
   "cell_type": "code",
   "execution_count": 117,
   "metadata": {
    "collapsed": true
   },
   "outputs": [],
   "source": [
    "import numpy as np\n",
    "import pandas as pd\n",
    "import scipy.stats as stats"
   ]
  },
  {
   "cell_type": "code",
   "execution_count": 85,
   "metadata": {
    "collapsed": true
   },
   "outputs": [],
   "source": [
    "Weight_loss_Male   = [ 3.69, 4.12, 4.65, 3.19,  4.34, 3.68, 4.12, 4.50, 3.70, 3.09,3.65, 4.73, 3.93, 3.46, 3.28, 4.43, 4.13, 3.62, 3.71, 2.92]\n",
    "Weight_loss_Female = [2.99, 1.80, 3.79, 4.12, 1.76, 3.50, 3.61, 2.32, 3.67, 4.26, 4.57, 3.01, 3.82, 4.33, 3.40, 3.86]"
   ]
  },
  {
   "cell_type": "markdown",
   "metadata": {},
   "source": [
    "### Step 1: Define null and alternative hypotheses"
   ]
  },
  {
   "cell_type": "markdown",
   "metadata": {},
   "source": [
    "In testing whether weight reduction of female and male are same,the null hypothesis states that mean weight reduction, $\\mu{M}$ equals $\\mu{F}$. The alternative hypthesis states that the weight reduction is different for Male and Female, $\\mu{M}$ $\\neq$ $\\mu{F}$\n",
    "\n",
    "* $H_0$: $\\mu_M$ - $\\mu_F$ =      0\n",
    "* $H_A$: $\\mu_M$ - $\\mu_F$ $\\neq$  0"
   ]
  },
  {
   "cell_type": "markdown",
   "metadata": {},
   "source": [
    "### Step 2: Decide the significance level"
   ]
  },
  {
   "cell_type": "markdown",
   "metadata": {},
   "source": [
    "Here we select $\\alpha$ = 0.05 and sample size < 30 and population standard deviation is not known."
   ]
  },
  {
   "cell_type": "markdown",
   "metadata": {},
   "source": [
    "### Step 3: Identify the test statistic"
   ]
  },
  {
   "cell_type": "markdown",
   "metadata": {},
   "source": [
    "* We have two samples and we do not know the population standard deviation.\n",
    "* Sample sizes for both samples are not same.\n",
    "* The sample is not a large sample, n < 30. So you use the t distribution and the $t_STAT$ test statistic for two sample unpaired test."
   ]
  },
  {
   "cell_type": "markdown",
   "metadata": {},
   "source": [
    "### Step 4: Calculate the p - value and test statistic"
   ]
  },
  {
   "cell_type": "markdown",
   "metadata": {},
   "source": [
    "** We use the scipy.stats.ttest_ind to calculate the t-test for the means of TWO INDEPENDENT samples of scores given the two sample observations. This function returns t statistic and two-tailed p value.**\n",
    "\n",
    "** This is a two-sided test for the null hypothesis that 2 independent samples have identical average (expected) values. This test assumes that the populations have identical variances.**"
   ]
  },
  {
   "cell_type": "code",
   "execution_count": 120,
   "metadata": {},
   "outputs": [
    {
     "name": "stdout",
     "output_type": "stream",
     "text": [
      "tstat  1.827\n",
      "P Value 0.076\n"
     ]
    }
   ],
   "source": [
    "t_statistic, p_value  =  stats.ttest_ind(Weight_loss_Male,Weight_loss_Female)\n",
    "print('tstat  %1.3f' % t_statistic)    \n",
    "print('P Value %1.3f' % p_value)    "
   ]
  },
  {
   "cell_type": "markdown",
   "metadata": {},
   "source": [
    "### Step 5:  Decide to reject or accept null hypothesis"
   ]
  },
  {
   "cell_type": "markdown",
   "metadata": {},
   "source": [
    "In this example, p value is 0.076 and it is more than 5% level of significance\n",
    "\n",
    "So the statistical decision is to accept the null hypothesis at 5% level of significance.\n",
    "\n",
    "### So there is no sufficient evidence  to reject the null hypothesis that the weight loss of these men and women is same."
   ]
  },
  {
   "cell_type": "markdown",
   "metadata": {},
   "source": [
    "##  In class lab : Practice Exercise 4"
   ]
  },
  {
   "cell_type": "markdown",
   "metadata": {},
   "source": [
    "Compare the following two unrelated samples. Data was collected on the weight of women and men enrolled in a weight reduction program.\n",
    "At $\\alpha$ = 0.05, test whether the weight of these two samples is different."
   ]
  },
  {
   "cell_type": "code",
   "execution_count": 121,
   "metadata": {
    "collapsed": true
   },
   "outputs": [],
   "source": [
    "Weight_Female       =  [ 53.8, 54.4, 51.2, 52.5, 61.0, 50.6, 51.6, 70.0]\n",
    "Weight_Male         =  [ 72.5, 80.3, 71.3, 67.7, 66.2, 73.4, 61.3, 76.8]"
   ]
  },
  {
   "cell_type": "markdown",
   "metadata": {},
   "source": [
    "## 2) Two sample t test for paired data - Paired t test"
   ]
  },
  {
   "cell_type": "markdown",
   "metadata": {},
   "source": [
    "## Example 8 - Concrete"
   ]
  },
  {
   "cell_type": "markdown",
   "metadata": {},
   "source": [
    "The file Concrete1 contains the compressive strength, in thousands of pounds per square inch (psi), of 40 samples of concrete taken two and seven days after pouring. (Data extracted from O. Carrillo-Gamboa and R. F. Gunst, “Measurement-Error-Model Collinearities,” Technometrics, 34 (1992): 454–464.)\n",
    "\n",
    "At the 0.01 level of significance, is there evidence that the mean strength is lower at two days than at seven days?\n",
    "\n",
    "Problem 10.26 from the Textbook adapted for Classroom Discussion(Chapter 10-page 353)\n"
   ]
  },
  {
   "cell_type": "code",
   "execution_count": 124,
   "metadata": {
    "collapsed": true
   },
   "outputs": [],
   "source": [
    "import numpy as np\n",
    "import pandas as pd\n",
    "import os\n",
    "import scipy.stats as stats"
   ]
  },
  {
   "cell_type": "code",
   "execution_count": 125,
   "metadata": {},
   "outputs": [
    {
     "data": {
      "text/html": [
       "<div>\n",
       "<style>\n",
       "    .dataframe thead tr:only-child th {\n",
       "        text-align: right;\n",
       "    }\n",
       "\n",
       "    .dataframe thead th {\n",
       "        text-align: left;\n",
       "    }\n",
       "\n",
       "    .dataframe tbody tr th {\n",
       "        vertical-align: top;\n",
       "    }\n",
       "</style>\n",
       "<table border=\"1\" class=\"dataframe\">\n",
       "  <thead>\n",
       "    <tr style=\"text-align: right;\">\n",
       "      <th></th>\n",
       "      <th>Sample</th>\n",
       "      <th>TwoDays</th>\n",
       "      <th>SevenDays</th>\n",
       "    </tr>\n",
       "  </thead>\n",
       "  <tbody>\n",
       "    <tr>\n",
       "      <th>0</th>\n",
       "      <td>1</td>\n",
       "      <td>2.830</td>\n",
       "      <td>3.505</td>\n",
       "    </tr>\n",
       "    <tr>\n",
       "      <th>1</th>\n",
       "      <td>2</td>\n",
       "      <td>3.295</td>\n",
       "      <td>3.430</td>\n",
       "    </tr>\n",
       "    <tr>\n",
       "      <th>2</th>\n",
       "      <td>3</td>\n",
       "      <td>2.710</td>\n",
       "      <td>3.670</td>\n",
       "    </tr>\n",
       "    <tr>\n",
       "      <th>3</th>\n",
       "      <td>4</td>\n",
       "      <td>2.855</td>\n",
       "      <td>3.355</td>\n",
       "    </tr>\n",
       "    <tr>\n",
       "      <th>4</th>\n",
       "      <td>5</td>\n",
       "      <td>2.980</td>\n",
       "      <td>3.985</td>\n",
       "    </tr>\n",
       "  </tbody>\n",
       "</table>\n",
       "</div>"
      ],
      "text/plain": [
       "   Sample  TwoDays  SevenDays\n",
       "0       1    2.830      3.505\n",
       "1       2    3.295      3.430\n",
       "2       3    2.710      3.670\n",
       "3       4    2.855      3.355\n",
       "4       5    2.980      3.985"
      ]
     },
     "execution_count": 125,
     "metadata": {},
     "output_type": "execute_result"
    }
   ],
   "source": [
    "os.chdir(\"D:\\\\SMDM\\\\\")\n",
    "os.getcwd()\n",
    "mydata = pd.read_csv('Concrete.csv')\n",
    "mydata.head()\n"
   ]
  },
  {
   "cell_type": "markdown",
   "metadata": {},
   "source": [
    "** We use the scipy.stats.ttest_rel to calculate the T-test on TWO RELATED samples of scores.\n",
    "This is a two-sided test for the null hypothesis that 2 related or repeated samples have identical average (expected) values. Here we give the two sample observations as input. This function returns t statistic and two-tailed p value.**"
   ]
  },
  {
   "cell_type": "code",
   "execution_count": 129,
   "metadata": {},
   "outputs": [
    {
     "name": "stdout",
     "output_type": "stream",
     "text": [
      "tstat  -9.372\n",
      "P Value 0.0000000\n"
     ]
    }
   ],
   "source": [
    "t_statistic, p_value  =  stats.ttest_rel(mydata.TwoDays,mydata.SevenDays,)\n",
    "print('tstat  %1.3f' % t_statistic)    \n",
    "print('P Value %1.7f' % p_value)    "
   ]
  },
  {
   "cell_type": "markdown",
   "metadata": {},
   "source": [
    "Since p-value < α, therefore reject Null Hypothesis. <br>\n",
    "<b>At the 0.01 level of significance, there is significant evidence that the mean strength is lower at two days than at seven days.</b>"
   ]
  },
  {
   "cell_type": "markdown",
   "metadata": {},
   "source": [
    "## Example 8 - Marks"
   ]
  },
  {
   "cell_type": "markdown",
   "metadata": {},
   "source": [
    "Compare two related samples. Data was collected on the marks scored by 25 students in their final practice exam and the marks scored by the students after attending special coaching classes conducted by their college.\n",
    "At 5% level of significance, is there any evidence that the coaching classes has any effect on the marks scored."
   ]
  },
  {
   "cell_type": "code",
   "execution_count": 131,
   "metadata": {
    "collapsed": true
   },
   "outputs": [],
   "source": [
    "import numpy as np\n",
    "import pandas as pd\n",
    "import os\n",
    "import scipy.stats as stats"
   ]
  },
  {
   "cell_type": "code",
   "execution_count": 130,
   "metadata": {
    "collapsed": true
   },
   "outputs": [],
   "source": [
    "Marks_before = [ 52, 56, 61, 47, 58, 52, 56, 60, 52, 46, 51, 62, 54, 50, 48, 59, 56, 51, 52, 44, 52, 45, 57, 60, 45]\n",
    "\n",
    "Marks_after  = [62, 64, 40, 65, 76, 82, 53, 68, 77, 60, 69, 34, 69, 73, 67, 82, 62, 49, 44, 43, 77, 61, 67, 67, 54]"
   ]
  },
  {
   "cell_type": "markdown",
   "metadata": {},
   "source": [
    "## Step 1: Define null and alternative hypotheses"
   ]
  },
  {
   "cell_type": "markdown",
   "metadata": {},
   "source": [
    "In testing whether coaching has any effect on marks scored, the null hypothesis states that difference in marks, $\\mu_{After}$ equals $\\mu_{Before}$. The alternative hypthesis states that difference in marks is more than 0, $\\mu_{After}$ $\\neq$ $\\mu_{Before}$\n",
    "\n",
    "* $H_0$: $\\mu_{After}$ - $\\mu_{Before}$ =  0\n",
    "* $H_A$: $\\mu_{After}$ - $\\mu_{Before}$ $\\neq$  0"
   ]
  },
  {
   "cell_type": "markdown",
   "metadata": {},
   "source": [
    "### Step 2: Decide the significance level"
   ]
  },
  {
   "cell_type": "markdown",
   "metadata": {},
   "source": [
    "Here we select $\\alpha$ = 0.05 and sample size < 30 and population standard deviation is not known."
   ]
  },
  {
   "cell_type": "markdown",
   "metadata": {},
   "source": [
    "### Step 3: Identify the test statistic"
   ]
  },
  {
   "cell_type": "markdown",
   "metadata": {},
   "source": [
    "* Sample sizes for both samples are  same.\n",
    "* We have two paired samples and we do not know the population standard deviation.\n",
    "* The sample is not a large sample, n < 30. So you use the t distribution and the $t_STAT$ test statistic for two sample paired test."
   ]
  },
  {
   "cell_type": "markdown",
   "metadata": {},
   "source": [
    "### Step 4: Calculate the p - value and test statistic"
   ]
  },
  {
   "cell_type": "markdown",
   "metadata": {},
   "source": [
    "** We use the scipy.stats.ttest_rel to calculate the T-test on TWO RELATED samples of scores.\n",
    "This is a two-sided test for the null hypothesis that 2 related or repeated samples have identical average (expected) values. Here we give the two sample observations as input. This function returns t statistic and two-tailed p value.**"
   ]
  },
  {
   "cell_type": "code",
   "execution_count": 132,
   "metadata": {},
   "outputs": [
    {
     "name": "stdout",
     "output_type": "stream",
     "text": [
      "P Value 0.002\n"
     ]
    }
   ],
   "source": [
    "t_statistic, p_value  =  stats.ttest_rel(Marks_after, Marks_before )\n",
    "print('P Value %1.3f' % p_value)  "
   ]
  },
  {
   "cell_type": "markdown",
   "metadata": {},
   "source": [
    "### Step 5:  Decide to reject or accept null hypothesis"
   ]
  },
  {
   "cell_type": "markdown",
   "metadata": {},
   "source": [
    "In this example, p value is 0.002 and it is less than 5% level of significance\n",
    "\n",
    "So the statistical decision is to reject the null hypothesis at 5% level of significance.\n",
    "\n",
    "### So there is  sufficient evidence  to reject the null hypothesis that there is an effect of coaching classes on marks scored by students."
   ]
  },
  {
   "cell_type": "markdown",
   "metadata": {},
   "source": [
    "##  In class lab : Practice Exercise 5"
   ]
  },
  {
   "cell_type": "markdown",
   "metadata": {},
   "source": [
    "Here weight of 25 people were recorded before they had a new therapy and then again 6 months later. \n",
    "Check if new therapy leads to a change in weight."
   ]
  },
  {
   "cell_type": "code",
   "execution_count": 134,
   "metadata": {
    "collapsed": true
   },
   "outputs": [],
   "source": [
    "wt_before = [76, 76, 72, 73, 64, 63, 75, 75, 71, 76, 71, 76, 78, 73, 76, 70, 71, 82, 84, 68, 70, 68, 66, 67, 74]\n",
    "wt_after  = [63, 72, 67, 69, 58, 59, 70, 71, 70, 71, 68, 71, 72, 69, 72, 67, 67, 78, 79, 62, 67, 63, 61, 63, 69]"
   ]
  },
  {
   "cell_type": "markdown",
   "metadata": {},
   "source": [
    "At 5% level of significance, is there any evidence that the new therapy has any effect on the weight of the participants?"
   ]
  },
  {
   "cell_type": "markdown",
   "metadata": {},
   "source": [
    "Hint: Use a paired t test"
   ]
  },
  {
   "cell_type": "code",
   "execution_count": null,
   "metadata": {
    "collapsed": true
   },
   "outputs": [],
   "source": []
  },
  {
   "cell_type": "markdown",
   "metadata": {},
   "source": [
    "### Take home exercises"
   ]
  },
  {
   "cell_type": "markdown",
   "metadata": {},
   "source": [
    "**1 Example: The following data represent the amount of soft drink filled in a sample of 50 consecutive 2-liter bottles as shown below:**\n",
    "\n",
    "|     _  |    _   |     _  |      _ |      _ |     _  |      _ |     _  |     _  |    _   |\n",
    "| ----- | ----- | ----- | ----- | ----- | ----- | ----- | ----- | ----- | ----- |\n",
    "| 2.109 | 2.086 | 2.066 | 2.075 | 2.065 | 2.057 | 2.052 | 2.044 | 2.036 | 2.038 | \n",
    "| 2.031 | 2.029 | 2.025 | 2.029 | 2.023 | 2.020 | 2.015 | 2.014 | 2.013 | 2.014 | \n",
    "| 2.012 | 2.012 | 2.012 | 2.010 | 2.005 | 2.003 | 1.999 | 1.996 | 1.997 | 1.992 | \n",
    "| 1.994 | 1.986 | 1.984 | 1.981 | 1.973 | 1.975 | 1.971 | 1.969 | 1.966 | 1.967 | \n",
    "| 1.963 | 1.957 | 1.951 | 1.951 | 1.947 | 1.941 | 1.941 | 1.938 | 1.908 | 1.894 | \n",
    "\n",
    "At 5% level of significance, is there evidence that the mean amount of soft drink filled is different from 2 litres? \n"
   ]
  },
  {
   "cell_type": "markdown",
   "metadata": {},
   "source": [
    "#### Hint: Use the following piece of code and try t test for one sample"
   ]
  },
  {
   "cell_type": "code",
   "execution_count": 137,
   "metadata": {},
   "outputs": [
    {
     "name": "stdout",
     "output_type": "stream",
     "text": [
      "Mean is 2.00 and standard deviation is 0.04\n"
     ]
    }
   ],
   "source": [
    "import numpy       as np\n",
    "import scipy.stats as stats\n",
    "volume = np.array([2.109, 2.086, 2.066, 2.075, 2.065, 2.057, 2.052, 2.044, 2.036, 2.038, \\\n",
    "                   2.031, 2.029, 2.025, 2.029, 2.023, 2.020, 2.015, 2.014, 2.013, 2.014,\\\n",
    "                   2.012, 2.012, 2.012, 2.010, 2.005, 2.003, 1.999, 1.996, 1.997, 1.992,\\\n",
    "                   1.994, 1.986, 1.984, 1.981, 1.973, 1.975, 1.971, 1.969, 1.966, 1.967,\\\n",
    "                   1.963, 1.957, 1.951, 1.951, 1.947, 1.941, 1.941, 1.938, 1.908, 1.894])\n",
    "\n",
    "print('Mean is %3.2f and standard deviation is %3.2f' %(volume.mean(),np.std(volume,ddof = 1)))"
   ]
  },
  {
   "cell_type": "markdown",
   "metadata": {
    "collapsed": true
   },
   "source": [
    "**2. Sugar consumption in grams of 20 patients (both diabetic and non-diabetic) are given below:**\n",
    "\n",
    "*At 5% level of significance, is there evidence that the mean sugar consumption is different for diabetic and non-diabetic?**    In the following table, 0 means diabetic and 1 means non-diabetic.*\n",
    "    "
   ]
  },
  {
   "cell_type": "code",
   "execution_count": 139,
   "metadata": {
    "collapsed": true
   },
   "outputs": [],
   "source": [
    "import numpy       as np\n",
    "import scipy.stats as stats\n",
    "weight               = np.array([[9.31, 0],[7.76, 0],[6.98, 1],[7.88, 1],[8.49, 1],[10.05, 1],[8.80, 1],[10.88, 1],[6.13, 1],[7.90, 1], \\\n",
    "                            [11.51, 0],[12.59, 0],[7.05, 1],[11.85, 0],[9.99, 0],[7.48, 0],[8.79, 0],[8.69, 1],[9.68, 0],[8.58, 1],\\\n",
    "                           [9.19, 0],[8.11, 1]])\n",
    "\n",
    "sugar_diabetic       = weight[:,1] == 0\n",
    "sugar_diabetic       = weight[sugar_diabetic][:,0]\n",
    "sugar_nondiabetic    = weight[:,1] == 1\n",
    "sugar_nondiabetic    = weight[sugar_nondiabetic][:,0] "
   ]
  },
  {
   "cell_type": "markdown",
   "metadata": {},
   "source": [
    "#### Hint: \n",
    "\n",
    "Use the numpy array, sugar_diabetic and numpy array, sugar_nondiabetic for your analysis."
   ]
  },
  {
   "cell_type": "markdown",
   "metadata": {},
   "source": [
    "**3. The delivery time of Pizza from an online food deliery service firm and the home delivery from a local restaurant are given below: At 5% level of significance, is the mean delivery time for online delivery food service firm is less than the mean delivery time for the home delivery from a local restaurant.**"
   ]
  },
  {
   "cell_type": "code",
   "execution_count": 140,
   "metadata": {
    "collapsed": true
   },
   "outputs": [],
   "source": [
    "Pizza_delivery_online = [16.8, 11.7, 15.6, 16.7, 17.5, 18.1, 14.1, 21.8, 13.9, 20.8]\n",
    "Pizza_delivery_local  = [22.0, 15.2, 18.7, 15.6, 20.8, 19.5, 17.0, 19.5, 16.5, 24.0]"
   ]
  },
  {
   "cell_type": "markdown",
   "metadata": {},
   "source": [
    "#### Hint: Use paired t test"
   ]
  },
  {
   "cell_type": "markdown",
   "metadata": {},
   "source": [
    "## END"
   ]
  }
 ],
 "metadata": {
  "kernelspec": {
   "display_name": "Python 3",
   "language": "python",
   "name": "python3"
  },
  "language_info": {
   "codemirror_mode": {
    "name": "ipython",
    "version": 3
   },
   "file_extension": ".py",
   "mimetype": "text/x-python",
   "name": "python",
   "nbconvert_exporter": "python",
   "pygments_lexer": "ipython3",
   "version": "3.7.1"
  }
 },
 "nbformat": 4,
 "nbformat_minor": 2
}
